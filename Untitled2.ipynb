{
  "nbformat": 4,
  "nbformat_minor": 0,
  "metadata": {
    "colab": {
      "name": "Untitled2.ipynb",
      "provenance": [],
      "collapsed_sections": []
    },
    "kernelspec": {
      "name": "python3",
      "display_name": "Python 3"
    },
    "language_info": {
      "name": "python"
    }
  },
  "cells": [
    {
      "cell_type": "markdown",
      "metadata": {
        "id": "m0iR0ZC_AVgh"
      },
      "source": [
        "# **NAME - TISHIKA**"
      ]
    },
    {
      "cell_type": "markdown",
      "metadata": {
        "id": "O1mL1d4R1wy_"
      },
      "source": [
        "# **TASK - EXPLORATORY DATA ANALYSIS ON SAMPLE SUPERSTORE DATASET**"
      ]
    },
    {
      "cell_type": "markdown",
      "metadata": {
        "id": "ud-jOi861zF3"
      },
      "source": [
        "**Perform ‘Exploratory Data Analysis’ on the provided dataset ‘SampleSuperstore.’ Suppose you are the business owner of the retail firm and want to see how your company is performing. You are interested in finding out the weak areas where you can work to make more profit.**"
      ]
    },
    {
      "cell_type": "markdown",
      "metadata": {
        "id": "NF-Z6WCuJAKJ"
      },
      "source": [
        "# **IMPORTING LIBRARIES**"
      ]
    },
    {
      "cell_type": "code",
      "metadata": {
        "id": "Xaf5mjMxJKK-"
      },
      "source": [
        "import pandas as pd\n",
        "import matplotlib.pyplot as plt\n",
        "import seaborn as sns"
      ],
      "execution_count": null,
      "outputs": []
    },
    {
      "cell_type": "code",
      "metadata": {
        "id": "UKTr-Fj2Jiwc"
      },
      "source": [
        "data = pd.read_csv(\"/content/SampleSuperstore.csv\")"
      ],
      "execution_count": null,
      "outputs": []
    },
    {
      "cell_type": "code",
      "metadata": {
        "colab": {
          "base_uri": "https://localhost:8080/",
          "height": 304
        },
        "id": "2gcqPrWAJizm",
        "outputId": "7c6f194f-59a1-4b70-bc9c-4fb15d7af1ce"
      },
      "source": [
        "data.head()"
      ],
      "execution_count": null,
      "outputs": [
        {
          "output_type": "execute_result",
          "data": {
            "text/html": [
              "<div>\n",
              "<style scoped>\n",
              "    .dataframe tbody tr th:only-of-type {\n",
              "        vertical-align: middle;\n",
              "    }\n",
              "\n",
              "    .dataframe tbody tr th {\n",
              "        vertical-align: top;\n",
              "    }\n",
              "\n",
              "    .dataframe thead th {\n",
              "        text-align: right;\n",
              "    }\n",
              "</style>\n",
              "<table border=\"1\" class=\"dataframe\">\n",
              "  <thead>\n",
              "    <tr style=\"text-align: right;\">\n",
              "      <th></th>\n",
              "      <th>Ship Mode</th>\n",
              "      <th>Segment</th>\n",
              "      <th>Country</th>\n",
              "      <th>City</th>\n",
              "      <th>State</th>\n",
              "      <th>Postal Code</th>\n",
              "      <th>Region</th>\n",
              "      <th>Category</th>\n",
              "      <th>Sub-Category</th>\n",
              "      <th>Sales</th>\n",
              "      <th>Quantity</th>\n",
              "      <th>Discount</th>\n",
              "      <th>Profit</th>\n",
              "    </tr>\n",
              "  </thead>\n",
              "  <tbody>\n",
              "    <tr>\n",
              "      <th>0</th>\n",
              "      <td>Second Class</td>\n",
              "      <td>Consumer</td>\n",
              "      <td>United States</td>\n",
              "      <td>Henderson</td>\n",
              "      <td>Kentucky</td>\n",
              "      <td>42420</td>\n",
              "      <td>South</td>\n",
              "      <td>Furniture</td>\n",
              "      <td>Bookcases</td>\n",
              "      <td>261.9600</td>\n",
              "      <td>2</td>\n",
              "      <td>0.00</td>\n",
              "      <td>41.9136</td>\n",
              "    </tr>\n",
              "    <tr>\n",
              "      <th>1</th>\n",
              "      <td>Second Class</td>\n",
              "      <td>Consumer</td>\n",
              "      <td>United States</td>\n",
              "      <td>Henderson</td>\n",
              "      <td>Kentucky</td>\n",
              "      <td>42420</td>\n",
              "      <td>South</td>\n",
              "      <td>Furniture</td>\n",
              "      <td>Chairs</td>\n",
              "      <td>731.9400</td>\n",
              "      <td>3</td>\n",
              "      <td>0.00</td>\n",
              "      <td>219.5820</td>\n",
              "    </tr>\n",
              "    <tr>\n",
              "      <th>2</th>\n",
              "      <td>Second Class</td>\n",
              "      <td>Corporate</td>\n",
              "      <td>United States</td>\n",
              "      <td>Los Angeles</td>\n",
              "      <td>California</td>\n",
              "      <td>90036</td>\n",
              "      <td>West</td>\n",
              "      <td>Office Supplies</td>\n",
              "      <td>Labels</td>\n",
              "      <td>14.6200</td>\n",
              "      <td>2</td>\n",
              "      <td>0.00</td>\n",
              "      <td>6.8714</td>\n",
              "    </tr>\n",
              "    <tr>\n",
              "      <th>3</th>\n",
              "      <td>Standard Class</td>\n",
              "      <td>Consumer</td>\n",
              "      <td>United States</td>\n",
              "      <td>Fort Lauderdale</td>\n",
              "      <td>Florida</td>\n",
              "      <td>33311</td>\n",
              "      <td>South</td>\n",
              "      <td>Furniture</td>\n",
              "      <td>Tables</td>\n",
              "      <td>957.5775</td>\n",
              "      <td>5</td>\n",
              "      <td>0.45</td>\n",
              "      <td>-383.0310</td>\n",
              "    </tr>\n",
              "    <tr>\n",
              "      <th>4</th>\n",
              "      <td>Standard Class</td>\n",
              "      <td>Consumer</td>\n",
              "      <td>United States</td>\n",
              "      <td>Fort Lauderdale</td>\n",
              "      <td>Florida</td>\n",
              "      <td>33311</td>\n",
              "      <td>South</td>\n",
              "      <td>Office Supplies</td>\n",
              "      <td>Storage</td>\n",
              "      <td>22.3680</td>\n",
              "      <td>2</td>\n",
              "      <td>0.20</td>\n",
              "      <td>2.5164</td>\n",
              "    </tr>\n",
              "  </tbody>\n",
              "</table>\n",
              "</div>"
            ],
            "text/plain": [
              "        Ship Mode    Segment        Country  ... Quantity Discount    Profit\n",
              "0    Second Class   Consumer  United States  ...        2     0.00   41.9136\n",
              "1    Second Class   Consumer  United States  ...        3     0.00  219.5820\n",
              "2    Second Class  Corporate  United States  ...        2     0.00    6.8714\n",
              "3  Standard Class   Consumer  United States  ...        5     0.45 -383.0310\n",
              "4  Standard Class   Consumer  United States  ...        2     0.20    2.5164\n",
              "\n",
              "[5 rows x 13 columns]"
            ]
          },
          "metadata": {},
          "execution_count": 3
        }
      ]
    },
    {
      "cell_type": "code",
      "metadata": {
        "colab": {
          "base_uri": "https://localhost:8080/",
          "height": 304
        },
        "id": "WvAqQHUpJi7-",
        "outputId": "fc2a3bbb-d4f9-427e-ef94-7ea221d48924"
      },
      "source": [
        "data.tail()"
      ],
      "execution_count": null,
      "outputs": [
        {
          "output_type": "execute_result",
          "data": {
            "text/html": [
              "<div>\n",
              "<style scoped>\n",
              "    .dataframe tbody tr th:only-of-type {\n",
              "        vertical-align: middle;\n",
              "    }\n",
              "\n",
              "    .dataframe tbody tr th {\n",
              "        vertical-align: top;\n",
              "    }\n",
              "\n",
              "    .dataframe thead th {\n",
              "        text-align: right;\n",
              "    }\n",
              "</style>\n",
              "<table border=\"1\" class=\"dataframe\">\n",
              "  <thead>\n",
              "    <tr style=\"text-align: right;\">\n",
              "      <th></th>\n",
              "      <th>Ship Mode</th>\n",
              "      <th>Segment</th>\n",
              "      <th>Country</th>\n",
              "      <th>City</th>\n",
              "      <th>State</th>\n",
              "      <th>Postal Code</th>\n",
              "      <th>Region</th>\n",
              "      <th>Category</th>\n",
              "      <th>Sub-Category</th>\n",
              "      <th>Sales</th>\n",
              "      <th>Quantity</th>\n",
              "      <th>Discount</th>\n",
              "      <th>Profit</th>\n",
              "    </tr>\n",
              "  </thead>\n",
              "  <tbody>\n",
              "    <tr>\n",
              "      <th>9989</th>\n",
              "      <td>Second Class</td>\n",
              "      <td>Consumer</td>\n",
              "      <td>United States</td>\n",
              "      <td>Miami</td>\n",
              "      <td>Florida</td>\n",
              "      <td>33180</td>\n",
              "      <td>South</td>\n",
              "      <td>Furniture</td>\n",
              "      <td>Furnishings</td>\n",
              "      <td>25.248</td>\n",
              "      <td>3</td>\n",
              "      <td>0.2</td>\n",
              "      <td>4.1028</td>\n",
              "    </tr>\n",
              "    <tr>\n",
              "      <th>9990</th>\n",
              "      <td>Standard Class</td>\n",
              "      <td>Consumer</td>\n",
              "      <td>United States</td>\n",
              "      <td>Costa Mesa</td>\n",
              "      <td>California</td>\n",
              "      <td>92627</td>\n",
              "      <td>West</td>\n",
              "      <td>Furniture</td>\n",
              "      <td>Furnishings</td>\n",
              "      <td>91.960</td>\n",
              "      <td>2</td>\n",
              "      <td>0.0</td>\n",
              "      <td>15.6332</td>\n",
              "    </tr>\n",
              "    <tr>\n",
              "      <th>9991</th>\n",
              "      <td>Standard Class</td>\n",
              "      <td>Consumer</td>\n",
              "      <td>United States</td>\n",
              "      <td>Costa Mesa</td>\n",
              "      <td>California</td>\n",
              "      <td>92627</td>\n",
              "      <td>West</td>\n",
              "      <td>Technology</td>\n",
              "      <td>Phones</td>\n",
              "      <td>258.576</td>\n",
              "      <td>2</td>\n",
              "      <td>0.2</td>\n",
              "      <td>19.3932</td>\n",
              "    </tr>\n",
              "    <tr>\n",
              "      <th>9992</th>\n",
              "      <td>Standard Class</td>\n",
              "      <td>Consumer</td>\n",
              "      <td>United States</td>\n",
              "      <td>Costa Mesa</td>\n",
              "      <td>California</td>\n",
              "      <td>92627</td>\n",
              "      <td>West</td>\n",
              "      <td>Office Supplies</td>\n",
              "      <td>Paper</td>\n",
              "      <td>29.600</td>\n",
              "      <td>4</td>\n",
              "      <td>0.0</td>\n",
              "      <td>13.3200</td>\n",
              "    </tr>\n",
              "    <tr>\n",
              "      <th>9993</th>\n",
              "      <td>Second Class</td>\n",
              "      <td>Consumer</td>\n",
              "      <td>United States</td>\n",
              "      <td>Westminster</td>\n",
              "      <td>California</td>\n",
              "      <td>92683</td>\n",
              "      <td>West</td>\n",
              "      <td>Office Supplies</td>\n",
              "      <td>Appliances</td>\n",
              "      <td>243.160</td>\n",
              "      <td>2</td>\n",
              "      <td>0.0</td>\n",
              "      <td>72.9480</td>\n",
              "    </tr>\n",
              "  </tbody>\n",
              "</table>\n",
              "</div>"
            ],
            "text/plain": [
              "           Ship Mode   Segment        Country  ... Quantity Discount   Profit\n",
              "9989    Second Class  Consumer  United States  ...        3      0.2   4.1028\n",
              "9990  Standard Class  Consumer  United States  ...        2      0.0  15.6332\n",
              "9991  Standard Class  Consumer  United States  ...        2      0.2  19.3932\n",
              "9992  Standard Class  Consumer  United States  ...        4      0.0  13.3200\n",
              "9993    Second Class  Consumer  United States  ...        2      0.0  72.9480\n",
              "\n",
              "[5 rows x 13 columns]"
            ]
          },
          "metadata": {},
          "execution_count": 4
        }
      ]
    },
    {
      "cell_type": "code",
      "metadata": {
        "colab": {
          "base_uri": "https://localhost:8080/"
        },
        "id": "HX_ol1OcJi-5",
        "outputId": "c79de89d-89bf-4ec3-daf0-ba4a79af8c6d"
      },
      "source": [
        "data.shape\n"
      ],
      "execution_count": null,
      "outputs": [
        {
          "output_type": "execute_result",
          "data": {
            "text/plain": [
              "(9994, 13)"
            ]
          },
          "metadata": {},
          "execution_count": 6
        }
      ]
    },
    {
      "cell_type": "code",
      "metadata": {
        "colab": {
          "base_uri": "https://localhost:8080/"
        },
        "id": "EF5o4f-wJjBa",
        "outputId": "7eca9578-5537-4f57-b061-40dfcb9d92ef"
      },
      "source": [
        "data.info()"
      ],
      "execution_count": null,
      "outputs": [
        {
          "output_type": "stream",
          "name": "stdout",
          "text": [
            "<class 'pandas.core.frame.DataFrame'>\n",
            "RangeIndex: 9994 entries, 0 to 9993\n",
            "Data columns (total 13 columns):\n",
            " #   Column        Non-Null Count  Dtype  \n",
            "---  ------        --------------  -----  \n",
            " 0   Ship Mode     9994 non-null   object \n",
            " 1   Segment       9994 non-null   object \n",
            " 2   Country       9994 non-null   object \n",
            " 3   City          9994 non-null   object \n",
            " 4   State         9994 non-null   object \n",
            " 5   Postal Code   9994 non-null   int64  \n",
            " 6   Region        9994 non-null   object \n",
            " 7   Category      9994 non-null   object \n",
            " 8   Sub-Category  9994 non-null   object \n",
            " 9   Sales         9994 non-null   float64\n",
            " 10  Quantity      9994 non-null   int64  \n",
            " 11  Discount      9994 non-null   float64\n",
            " 12  Profit        9994 non-null   float64\n",
            "dtypes: float64(3), int64(2), object(8)\n",
            "memory usage: 1015.1+ KB\n"
          ]
        }
      ]
    },
    {
      "cell_type": "code",
      "metadata": {
        "id": "JapG2YedJjEv"
      },
      "source": [
        "data = data.drop(['Country', 'Postal Code', 'Discount'], axis = 1)"
      ],
      "execution_count": null,
      "outputs": []
    },
    {
      "cell_type": "code",
      "metadata": {
        "colab": {
          "base_uri": "https://localhost:8080/",
          "height": 203
        },
        "id": "7Sz_Ym2iJjJ3",
        "outputId": "73a0a75a-ad00-49c8-b65a-ee37009a25e4"
      },
      "source": [
        "data.head()"
      ],
      "execution_count": null,
      "outputs": [
        {
          "output_type": "execute_result",
          "data": {
            "text/html": [
              "<div>\n",
              "<style scoped>\n",
              "    .dataframe tbody tr th:only-of-type {\n",
              "        vertical-align: middle;\n",
              "    }\n",
              "\n",
              "    .dataframe tbody tr th {\n",
              "        vertical-align: top;\n",
              "    }\n",
              "\n",
              "    .dataframe thead th {\n",
              "        text-align: right;\n",
              "    }\n",
              "</style>\n",
              "<table border=\"1\" class=\"dataframe\">\n",
              "  <thead>\n",
              "    <tr style=\"text-align: right;\">\n",
              "      <th></th>\n",
              "      <th>Ship Mode</th>\n",
              "      <th>Segment</th>\n",
              "      <th>City</th>\n",
              "      <th>State</th>\n",
              "      <th>Region</th>\n",
              "      <th>Category</th>\n",
              "      <th>Sub-Category</th>\n",
              "      <th>Sales</th>\n",
              "      <th>Quantity</th>\n",
              "      <th>Profit</th>\n",
              "    </tr>\n",
              "  </thead>\n",
              "  <tbody>\n",
              "    <tr>\n",
              "      <th>0</th>\n",
              "      <td>Second Class</td>\n",
              "      <td>Consumer</td>\n",
              "      <td>Henderson</td>\n",
              "      <td>Kentucky</td>\n",
              "      <td>South</td>\n",
              "      <td>Furniture</td>\n",
              "      <td>Bookcases</td>\n",
              "      <td>261.9600</td>\n",
              "      <td>2</td>\n",
              "      <td>41.9136</td>\n",
              "    </tr>\n",
              "    <tr>\n",
              "      <th>1</th>\n",
              "      <td>Second Class</td>\n",
              "      <td>Consumer</td>\n",
              "      <td>Henderson</td>\n",
              "      <td>Kentucky</td>\n",
              "      <td>South</td>\n",
              "      <td>Furniture</td>\n",
              "      <td>Chairs</td>\n",
              "      <td>731.9400</td>\n",
              "      <td>3</td>\n",
              "      <td>219.5820</td>\n",
              "    </tr>\n",
              "    <tr>\n",
              "      <th>2</th>\n",
              "      <td>Second Class</td>\n",
              "      <td>Corporate</td>\n",
              "      <td>Los Angeles</td>\n",
              "      <td>California</td>\n",
              "      <td>West</td>\n",
              "      <td>Office Supplies</td>\n",
              "      <td>Labels</td>\n",
              "      <td>14.6200</td>\n",
              "      <td>2</td>\n",
              "      <td>6.8714</td>\n",
              "    </tr>\n",
              "    <tr>\n",
              "      <th>3</th>\n",
              "      <td>Standard Class</td>\n",
              "      <td>Consumer</td>\n",
              "      <td>Fort Lauderdale</td>\n",
              "      <td>Florida</td>\n",
              "      <td>South</td>\n",
              "      <td>Furniture</td>\n",
              "      <td>Tables</td>\n",
              "      <td>957.5775</td>\n",
              "      <td>5</td>\n",
              "      <td>-383.0310</td>\n",
              "    </tr>\n",
              "    <tr>\n",
              "      <th>4</th>\n",
              "      <td>Standard Class</td>\n",
              "      <td>Consumer</td>\n",
              "      <td>Fort Lauderdale</td>\n",
              "      <td>Florida</td>\n",
              "      <td>South</td>\n",
              "      <td>Office Supplies</td>\n",
              "      <td>Storage</td>\n",
              "      <td>22.3680</td>\n",
              "      <td>2</td>\n",
              "      <td>2.5164</td>\n",
              "    </tr>\n",
              "  </tbody>\n",
              "</table>\n",
              "</div>"
            ],
            "text/plain": [
              "        Ship Mode    Segment             City  ...     Sales Quantity    Profit\n",
              "0    Second Class   Consumer        Henderson  ...  261.9600        2   41.9136\n",
              "1    Second Class   Consumer        Henderson  ...  731.9400        3  219.5820\n",
              "2    Second Class  Corporate      Los Angeles  ...   14.6200        2    6.8714\n",
              "3  Standard Class   Consumer  Fort Lauderdale  ...  957.5775        5 -383.0310\n",
              "4  Standard Class   Consumer  Fort Lauderdale  ...   22.3680        2    2.5164\n",
              "\n",
              "[5 rows x 10 columns]"
            ]
          },
          "metadata": {},
          "execution_count": 9
        }
      ]
    },
    {
      "cell_type": "code",
      "metadata": {
        "colab": {
          "base_uri": "https://localhost:8080/"
        },
        "id": "X1WsO8ssKnZQ",
        "outputId": "9d04407f-7dc8-416d-df59-b5267bf98ac8"
      },
      "source": [
        "Category_grp = data.groupby(['Category','Sub-Category'])['Sales','Quantity','Profit'].mean().reset_index()\n",
        "Segment_grp = data.groupby(['Segment'])['Sales','Quantity','Profit'].mean().reset_index()\n",
        "Region_grp = data.groupby(['Region'])['Sales','Quantity','Profit'].mean().reset_index()\n",
        "State_grp = data.groupby(['State'])['Sales','Quantity','Profit'].mean().reset_index()\n",
        "Shipmode_grp = data.groupby(['Ship Mode'])['Sales','Quantity','Profit'].mean().reset_index()"
      ],
      "execution_count": null,
      "outputs": [
        {
          "output_type": "stream",
          "name": "stderr",
          "text": [
            "/usr/local/lib/python3.7/dist-packages/ipykernel_launcher.py:1: FutureWarning: Indexing with multiple keys (implicitly converted to a tuple of keys) will be deprecated, use a list instead.\n",
            "  \"\"\"Entry point for launching an IPython kernel.\n",
            "/usr/local/lib/python3.7/dist-packages/ipykernel_launcher.py:2: FutureWarning: Indexing with multiple keys (implicitly converted to a tuple of keys) will be deprecated, use a list instead.\n",
            "  \n",
            "/usr/local/lib/python3.7/dist-packages/ipykernel_launcher.py:3: FutureWarning: Indexing with multiple keys (implicitly converted to a tuple of keys) will be deprecated, use a list instead.\n",
            "  This is separate from the ipykernel package so we can avoid doing imports until\n",
            "/usr/local/lib/python3.7/dist-packages/ipykernel_launcher.py:4: FutureWarning: Indexing with multiple keys (implicitly converted to a tuple of keys) will be deprecated, use a list instead.\n",
            "  after removing the cwd from sys.path.\n",
            "/usr/local/lib/python3.7/dist-packages/ipykernel_launcher.py:5: FutureWarning: Indexing with multiple keys (implicitly converted to a tuple of keys) will be deprecated, use a list instead.\n",
            "  \"\"\"\n"
          ]
        }
      ]
    },
    {
      "cell_type": "markdown",
      "metadata": {
        "id": "78LkTjMmAeNP"
      },
      "source": [
        "# **CATEGORY GROUP**"
      ]
    },
    {
      "cell_type": "code",
      "metadata": {
        "colab": {
          "base_uri": "https://localhost:8080/",
          "height": 573
        },
        "id": "ukucCB7DKnc6",
        "outputId": "6844f549-4b07-4568-f5da-d3799957b212"
      },
      "source": [
        "Category_grp"
      ],
      "execution_count": null,
      "outputs": [
        {
          "output_type": "execute_result",
          "data": {
            "text/html": [
              "<div>\n",
              "<style scoped>\n",
              "    .dataframe tbody tr th:only-of-type {\n",
              "        vertical-align: middle;\n",
              "    }\n",
              "\n",
              "    .dataframe tbody tr th {\n",
              "        vertical-align: top;\n",
              "    }\n",
              "\n",
              "    .dataframe thead th {\n",
              "        text-align: right;\n",
              "    }\n",
              "</style>\n",
              "<table border=\"1\" class=\"dataframe\">\n",
              "  <thead>\n",
              "    <tr style=\"text-align: right;\">\n",
              "      <th></th>\n",
              "      <th>Category</th>\n",
              "      <th>Sub-Category</th>\n",
              "      <th>Sales</th>\n",
              "      <th>Quantity</th>\n",
              "      <th>Profit</th>\n",
              "    </tr>\n",
              "  </thead>\n",
              "  <tbody>\n",
              "    <tr>\n",
              "      <th>0</th>\n",
              "      <td>Furniture</td>\n",
              "      <td>Bookcases</td>\n",
              "      <td>503.859633</td>\n",
              "      <td>3.807018</td>\n",
              "      <td>-15.230509</td>\n",
              "    </tr>\n",
              "    <tr>\n",
              "      <th>1</th>\n",
              "      <td>Furniture</td>\n",
              "      <td>Chairs</td>\n",
              "      <td>532.332420</td>\n",
              "      <td>3.818476</td>\n",
              "      <td>43.095894</td>\n",
              "    </tr>\n",
              "    <tr>\n",
              "      <th>2</th>\n",
              "      <td>Furniture</td>\n",
              "      <td>Furnishings</td>\n",
              "      <td>95.825668</td>\n",
              "      <td>3.723093</td>\n",
              "      <td>13.645918</td>\n",
              "    </tr>\n",
              "    <tr>\n",
              "      <th>3</th>\n",
              "      <td>Furniture</td>\n",
              "      <td>Tables</td>\n",
              "      <td>648.794771</td>\n",
              "      <td>3.890282</td>\n",
              "      <td>-55.565771</td>\n",
              "    </tr>\n",
              "    <tr>\n",
              "      <th>4</th>\n",
              "      <td>Office Supplies</td>\n",
              "      <td>Appliances</td>\n",
              "      <td>230.755710</td>\n",
              "      <td>3.710300</td>\n",
              "      <td>38.922758</td>\n",
              "    </tr>\n",
              "    <tr>\n",
              "      <th>5</th>\n",
              "      <td>Office Supplies</td>\n",
              "      <td>Art</td>\n",
              "      <td>34.068834</td>\n",
              "      <td>3.768844</td>\n",
              "      <td>8.200737</td>\n",
              "    </tr>\n",
              "    <tr>\n",
              "      <th>6</th>\n",
              "      <td>Office Supplies</td>\n",
              "      <td>Binders</td>\n",
              "      <td>133.560560</td>\n",
              "      <td>3.922521</td>\n",
              "      <td>19.843574</td>\n",
              "    </tr>\n",
              "    <tr>\n",
              "      <th>7</th>\n",
              "      <td>Office Supplies</td>\n",
              "      <td>Envelopes</td>\n",
              "      <td>64.867724</td>\n",
              "      <td>3.566929</td>\n",
              "      <td>27.418019</td>\n",
              "    </tr>\n",
              "    <tr>\n",
              "      <th>8</th>\n",
              "      <td>Office Supplies</td>\n",
              "      <td>Fasteners</td>\n",
              "      <td>13.936774</td>\n",
              "      <td>4.211982</td>\n",
              "      <td>4.375660</td>\n",
              "    </tr>\n",
              "    <tr>\n",
              "      <th>9</th>\n",
              "      <td>Office Supplies</td>\n",
              "      <td>Labels</td>\n",
              "      <td>34.303055</td>\n",
              "      <td>3.846154</td>\n",
              "      <td>15.236962</td>\n",
              "    </tr>\n",
              "    <tr>\n",
              "      <th>10</th>\n",
              "      <td>Office Supplies</td>\n",
              "      <td>Paper</td>\n",
              "      <td>57.284092</td>\n",
              "      <td>3.779562</td>\n",
              "      <td>24.856620</td>\n",
              "    </tr>\n",
              "    <tr>\n",
              "      <th>11</th>\n",
              "      <td>Office Supplies</td>\n",
              "      <td>Storage</td>\n",
              "      <td>264.590553</td>\n",
              "      <td>3.732861</td>\n",
              "      <td>25.152277</td>\n",
              "    </tr>\n",
              "    <tr>\n",
              "      <th>12</th>\n",
              "      <td>Office Supplies</td>\n",
              "      <td>Supplies</td>\n",
              "      <td>245.650200</td>\n",
              "      <td>3.405263</td>\n",
              "      <td>-6.258418</td>\n",
              "    </tr>\n",
              "    <tr>\n",
              "      <th>13</th>\n",
              "      <td>Technology</td>\n",
              "      <td>Accessories</td>\n",
              "      <td>215.974604</td>\n",
              "      <td>3.840000</td>\n",
              "      <td>54.111788</td>\n",
              "    </tr>\n",
              "    <tr>\n",
              "      <th>14</th>\n",
              "      <td>Technology</td>\n",
              "      <td>Copiers</td>\n",
              "      <td>2198.941618</td>\n",
              "      <td>3.441176</td>\n",
              "      <td>817.909190</td>\n",
              "    </tr>\n",
              "    <tr>\n",
              "      <th>15</th>\n",
              "      <td>Technology</td>\n",
              "      <td>Machines</td>\n",
              "      <td>1645.553313</td>\n",
              "      <td>3.826087</td>\n",
              "      <td>29.432669</td>\n",
              "    </tr>\n",
              "    <tr>\n",
              "      <th>16</th>\n",
              "      <td>Technology</td>\n",
              "      <td>Phones</td>\n",
              "      <td>371.211534</td>\n",
              "      <td>3.699663</td>\n",
              "      <td>50.073938</td>\n",
              "    </tr>\n",
              "  </tbody>\n",
              "</table>\n",
              "</div>"
            ],
            "text/plain": [
              "           Category Sub-Category        Sales  Quantity      Profit\n",
              "0         Furniture    Bookcases   503.859633  3.807018  -15.230509\n",
              "1         Furniture       Chairs   532.332420  3.818476   43.095894\n",
              "2         Furniture  Furnishings    95.825668  3.723093   13.645918\n",
              "3         Furniture       Tables   648.794771  3.890282  -55.565771\n",
              "4   Office Supplies   Appliances   230.755710  3.710300   38.922758\n",
              "5   Office Supplies          Art    34.068834  3.768844    8.200737\n",
              "6   Office Supplies      Binders   133.560560  3.922521   19.843574\n",
              "7   Office Supplies    Envelopes    64.867724  3.566929   27.418019\n",
              "8   Office Supplies    Fasteners    13.936774  4.211982    4.375660\n",
              "9   Office Supplies       Labels    34.303055  3.846154   15.236962\n",
              "10  Office Supplies        Paper    57.284092  3.779562   24.856620\n",
              "11  Office Supplies      Storage   264.590553  3.732861   25.152277\n",
              "12  Office Supplies     Supplies   245.650200  3.405263   -6.258418\n",
              "13       Technology  Accessories   215.974604  3.840000   54.111788\n",
              "14       Technology      Copiers  2198.941618  3.441176  817.909190\n",
              "15       Technology     Machines  1645.553313  3.826087   29.432669\n",
              "16       Technology       Phones   371.211534  3.699663   50.073938"
            ]
          },
          "metadata": {},
          "execution_count": 11
        }
      ]
    },
    {
      "cell_type": "code",
      "metadata": {
        "colab": {
          "base_uri": "https://localhost:8080/",
          "height": 1000
        },
        "id": "KHERvV6VKnf5",
        "outputId": "180879bb-37ac-4313-c8b0-c531ccee5189"
      },
      "source": [
        "Sales_Category_plot = sns.catplot(x = \"Sales\", y = \"Sub-Category\", col = \"Category\", data = Category_grp, kind = \"bar\")\n",
        "Quantity_Category_plot = sns.catplot(x = \"Quantity\", y = \"Sub-Category\", col = \"Category\", data = Category_grp, kind = \"bar\")\n",
        "Profit_Category_plot = sns.catplot(x = \"Profit\", y = \"Sub-Category\", col = \"Category\", data = Category_grp, kind = \"bar\")\n"
      ],
      "execution_count": null,
      "outputs": [
        {
          "output_type": "display_data",
          "data": {
            "image/png": "[encoded data removed]",
            "text/plain": [
              "<Figure size 1080x360 with 3 Axes>"
            ]
          },
          "metadata": {
            "needs_background": "light"
          }
        },
        {
          "output_type": "display_data",
          "data": {
            "image/png": "[encoded data removed]",
            "text/plain": [
              "<Figure size 1080x360 with 3 Axes>"
            ]
          },
          "metadata": {
            "needs_background": "light"
          }
        },
        {
          "output_type": "display_data",
          "data": {
            "image/png": "[encoded data removed]",
            "text/plain": [
              "<Figure size 1080x360 with 3 Axes>"
            ]
          },
          "metadata": {
            "needs_background": "light"
          }
        }
      ]
    },
    {
      "cell_type": "markdown",
      "metadata": {
        "id": "fx28SPDJL6bh"
      },
      "source": [
        "***Conclusions***\n",
        "\n",
        "In technology category, Sales are more than the other two categories and Copiers and machines are sold the most including the fact that copiers are more profitable.\n",
        "\n",
        "Quantity of products are almost sold in equal amount in either category.\n",
        "\n",
        "In Furniture category, Bookcases and Tables are facing a lose.\n",
        "\n",
        "In Office Supplies category, there is a very minimal profit in all sub-categories.\n"
      ]
    },
    {
      "cell_type": "markdown",
      "metadata": {
        "id": "MhsyaGKwAjIx"
      },
      "source": [
        "# **SEGMENT GROUP**"
      ]
    },
    {
      "cell_type": "code",
      "metadata": {
        "colab": {
          "base_uri": "https://localhost:8080/",
          "height": 142
        },
        "id": "v9wgI8n2Knnp",
        "outputId": "3d5d08db-01b3-4255-9171-999d9f00ee01"
      },
      "source": [
        "Segment_grp"
      ],
      "execution_count": null,
      "outputs": [
        {
          "output_type": "execute_result",
          "data": {
            "text/html": [
              "<div>\n",
              "<style scoped>\n",
              "    .dataframe tbody tr th:only-of-type {\n",
              "        vertical-align: middle;\n",
              "    }\n",
              "\n",
              "    .dataframe tbody tr th {\n",
              "        vertical-align: top;\n",
              "    }\n",
              "\n",
              "    .dataframe thead th {\n",
              "        text-align: right;\n",
              "    }\n",
              "</style>\n",
              "<table border=\"1\" class=\"dataframe\">\n",
              "  <thead>\n",
              "    <tr style=\"text-align: right;\">\n",
              "      <th></th>\n",
              "      <th>Segment</th>\n",
              "      <th>Sales</th>\n",
              "      <th>Quantity</th>\n",
              "      <th>Profit</th>\n",
              "    </tr>\n",
              "  </thead>\n",
              "  <tbody>\n",
              "    <tr>\n",
              "      <th>0</th>\n",
              "      <td>Consumer</td>\n",
              "      <td>223.733644</td>\n",
              "      <td>3.760547</td>\n",
              "      <td>25.836873</td>\n",
              "    </tr>\n",
              "    <tr>\n",
              "      <th>1</th>\n",
              "      <td>Corporate</td>\n",
              "      <td>233.823300</td>\n",
              "      <td>3.843709</td>\n",
              "      <td>30.456667</td>\n",
              "    </tr>\n",
              "    <tr>\n",
              "      <th>2</th>\n",
              "      <td>Home Office</td>\n",
              "      <td>240.972041</td>\n",
              "      <td>3.782389</td>\n",
              "      <td>33.818664</td>\n",
              "    </tr>\n",
              "  </tbody>\n",
              "</table>\n",
              "</div>"
            ],
            "text/plain": [
              "       Segment       Sales  Quantity     Profit\n",
              "0     Consumer  223.733644  3.760547  25.836873\n",
              "1    Corporate  233.823300  3.843709  30.456667\n",
              "2  Home Office  240.972041  3.782389  33.818664"
            ]
          },
          "metadata": {},
          "execution_count": 13
        }
      ]
    },
    {
      "cell_type": "code",
      "metadata": {
        "colab": {
          "base_uri": "https://localhost:8080/",
          "height": 1000
        },
        "id": "hm0CbOBHKnqN",
        "outputId": "11ea98d7-fb4e-4441-e652-6ce2f5a42dfd"
      },
      "source": [
        "Sales_Segment_plot = sns.catplot(y = \"Sales\", x = \"Segment\", data = Segment_grp, kind = \"bar\")\n",
        "Quantity_Segment_plot = sns.catplot(y = \"Quantity\", x = \"Segment\", data = Segment_grp, kind = \"bar\")\n",
        "Profit_Segment_plot = sns.catplot(y = \"Profit\", x = \"Segment\", data = Segment_grp, kind = \"bar\")\n"
      ],
      "execution_count": null,
      "outputs": [
        {
          "output_type": "display_data",
          "data": {
            "image/png": "[encoded data removed]",
            "text/plain": [
              "<Figure size 360x360 with 1 Axes>"
            ]
          },
          "metadata": {
            "needs_background": "light"
          }
        },
        {
          "output_type": "display_data",
          "data": {
            "image/png": "[encoded data removed]",
            "text/plain": [
              "<Figure size 360x360 with 1 Axes>"
            ]
          },
          "metadata": {
            "needs_background": "light"
          }
        },
        {
          "output_type": "display_data",
          "data": {
            "image/png": "[encoded data removed]",
            "text/plain": [
              "<Figure size 360x360 with 1 Axes>"
            ]
          },
          "metadata": {
            "needs_background": "light"
          }
        }
      ]
    },
    {
      "cell_type": "markdown",
      "metadata": {
        "id": "JWnC2b-uOCAL"
      },
      "source": [
        "**Conclusions:**\n",
        "\n",
        "All types of Segments have almost same number of sales and same number of quantity sold.\n",
        "\n",
        "Profit gained in the Home Office segment is higher as comparing to other two segments and Consumer Segment is being the lowest."
      ]
    },
    {
      "cell_type": "markdown",
      "metadata": {
        "id": "SOckb_8IOI7w"
      },
      "source": [
        "# **REGION GROUP**"
      ]
    },
    {
      "cell_type": "code",
      "metadata": {
        "colab": {
          "base_uri": "https://localhost:8080/",
          "height": 172
        },
        "id": "Ehmt4BF9Knvo",
        "outputId": "b1298505-a51a-4477-a889-010d6f0e4d8d"
      },
      "source": [
        "Region_grp"
      ],
      "execution_count": null,
      "outputs": [
        {
          "output_type": "execute_result",
          "data": {
            "text/html": [
              "<div>\n",
              "<style scoped>\n",
              "    .dataframe tbody tr th:only-of-type {\n",
              "        vertical-align: middle;\n",
              "    }\n",
              "\n",
              "    .dataframe tbody tr th {\n",
              "        vertical-align: top;\n",
              "    }\n",
              "\n",
              "    .dataframe thead th {\n",
              "        text-align: right;\n",
              "    }\n",
              "</style>\n",
              "<table border=\"1\" class=\"dataframe\">\n",
              "  <thead>\n",
              "    <tr style=\"text-align: right;\">\n",
              "      <th></th>\n",
              "      <th>Region</th>\n",
              "      <th>Sales</th>\n",
              "      <th>Quantity</th>\n",
              "      <th>Profit</th>\n",
              "    </tr>\n",
              "  </thead>\n",
              "  <tbody>\n",
              "    <tr>\n",
              "      <th>0</th>\n",
              "      <td>Central</td>\n",
              "      <td>215.772661</td>\n",
              "      <td>3.779595</td>\n",
              "      <td>17.092709</td>\n",
              "    </tr>\n",
              "    <tr>\n",
              "      <th>1</th>\n",
              "      <td>East</td>\n",
              "      <td>238.336110</td>\n",
              "      <td>3.728230</td>\n",
              "      <td>32.135808</td>\n",
              "    </tr>\n",
              "    <tr>\n",
              "      <th>2</th>\n",
              "      <td>South</td>\n",
              "      <td>241.803645</td>\n",
              "      <td>3.832716</td>\n",
              "      <td>28.857673</td>\n",
              "    </tr>\n",
              "    <tr>\n",
              "      <th>3</th>\n",
              "      <td>West</td>\n",
              "      <td>226.493233</td>\n",
              "      <td>3.829535</td>\n",
              "      <td>33.849032</td>\n",
              "    </tr>\n",
              "  </tbody>\n",
              "</table>\n",
              "</div>"
            ],
            "text/plain": [
              "    Region       Sales  Quantity     Profit\n",
              "0  Central  215.772661  3.779595  17.092709\n",
              "1     East  238.336110  3.728230  32.135808\n",
              "2    South  241.803645  3.832716  28.857673\n",
              "3     West  226.493233  3.829535  33.849032"
            ]
          },
          "metadata": {},
          "execution_count": 19
        }
      ]
    },
    {
      "cell_type": "code",
      "metadata": {
        "colab": {
          "base_uri": "https://localhost:8080/",
          "height": 1000
        },
        "id": "6yprA3hJKn3-",
        "outputId": "a98686e4-4e75-41e0-8e90-1629266bc76a"
      },
      "source": [
        "Sales_Region_plot = sns.catplot(y = \"Sales\", x = \"Region\", data = Region_grp, kind = \"bar\")\n",
        "Quantity_Region_plot = sns.catplot(y = \"Quantity\", x = \"Region\", data = Region_grp, kind = \"bar\")\n",
        "Profit_Region_plot = sns.catplot(y = \"Profit\", x = \"Region\", data = Region_grp, kind = \"bar\")"
      ],
      "execution_count": null,
      "outputs": [
        {
          "output_type": "display_data",
          "data": {
            "image/png": "[encoded data removed]",
            "text/plain": [
              "<Figure size 360x360 with 1 Axes>"
            ]
          },
          "metadata": {
            "needs_background": "light"
          }
        },
        {
          "output_type": "display_data",
          "data": {
            "image/png": "[encoded data removed]",
            "text/plain": [
              "<Figure size 360x360 with 1 Axes>"
            ]
          },
          "metadata": {
            "needs_background": "light"
          }
        },
        {
          "output_type": "display_data",
          "data": {
            "image/png": "[encoded data removed]",
            "text/plain": [
              "<Figure size 360x360 with 1 Axes>"
            ]
          },
          "metadata": {
            "needs_background": "light"
          }
        }
      ]
    },
    {
      "cell_type": "markdown",
      "metadata": {
        "id": "p8vywUPxOrfq"
      },
      "source": [
        "**Conclusion:**\n",
        "\n",
        "\n",
        "Sales are more in Southern and Eastern part of US.\n",
        "\n",
        "Quantity of products sold in all the regions are almost same and do not make much of difference.\n",
        "\n",
        "Profit gained in Western part of US is comparatively higher followed by Eastern part, Southern part then Central part of US."
      ]
    },
    {
      "cell_type": "markdown",
      "metadata": {
        "id": "MZEmnRn8Oro8"
      },
      "source": [
        "# **STATE GROUP**"
      ]
    },
    {
      "cell_type": "code",
      "metadata": {
        "colab": {
          "base_uri": "https://localhost:8080/",
          "height": 1000
        },
        "id": "GP1wBvcHOz3h",
        "outputId": "98cbf6c9-6590-4e9e-ced6-30a976a0bba5"
      },
      "source": [
        "State_grp"
      ],
      "execution_count": null,
      "outputs": [
        {
          "output_type": "execute_result",
          "data": {
            "text/html": [
              "<div>\n",
              "<style scoped>\n",
              "    .dataframe tbody tr th:only-of-type {\n",
              "        vertical-align: middle;\n",
              "    }\n",
              "\n",
              "    .dataframe tbody tr th {\n",
              "        vertical-align: top;\n",
              "    }\n",
              "\n",
              "    .dataframe thead th {\n",
              "        text-align: right;\n",
              "    }\n",
              "</style>\n",
              "<table border=\"1\" class=\"dataframe\">\n",
              "  <thead>\n",
              "    <tr style=\"text-align: right;\">\n",
              "      <th></th>\n",
              "      <th>State</th>\n",
              "      <th>Sales</th>\n",
              "      <th>Quantity</th>\n",
              "      <th>Profit</th>\n",
              "    </tr>\n",
              "  </thead>\n",
              "  <tbody>\n",
              "    <tr>\n",
              "      <th>0</th>\n",
              "      <td>Alabama</td>\n",
              "      <td>319.846557</td>\n",
              "      <td>4.196721</td>\n",
              "      <td>94.865989</td>\n",
              "    </tr>\n",
              "    <tr>\n",
              "      <th>1</th>\n",
              "      <td>Arizona</td>\n",
              "      <td>157.508933</td>\n",
              "      <td>3.848214</td>\n",
              "      <td>-15.303235</td>\n",
              "    </tr>\n",
              "    <tr>\n",
              "      <th>2</th>\n",
              "      <td>Arkansas</td>\n",
              "      <td>194.635500</td>\n",
              "      <td>4.000000</td>\n",
              "      <td>66.811452</td>\n",
              "    </tr>\n",
              "    <tr>\n",
              "      <th>3</th>\n",
              "      <td>California</td>\n",
              "      <td>228.729451</td>\n",
              "      <td>3.831584</td>\n",
              "      <td>38.171608</td>\n",
              "    </tr>\n",
              "    <tr>\n",
              "      <th>4</th>\n",
              "      <td>Colorado</td>\n",
              "      <td>176.418231</td>\n",
              "      <td>3.807692</td>\n",
              "      <td>-35.867351</td>\n",
              "    </tr>\n",
              "    <tr>\n",
              "      <th>5</th>\n",
              "      <td>Connecticut</td>\n",
              "      <td>163.223866</td>\n",
              "      <td>3.426829</td>\n",
              "      <td>42.823071</td>\n",
              "    </tr>\n",
              "    <tr>\n",
              "      <th>6</th>\n",
              "      <td>Delaware</td>\n",
              "      <td>285.948635</td>\n",
              "      <td>3.822917</td>\n",
              "      <td>103.930988</td>\n",
              "    </tr>\n",
              "    <tr>\n",
              "      <th>7</th>\n",
              "      <td>District of Columbia</td>\n",
              "      <td>286.502000</td>\n",
              "      <td>4.000000</td>\n",
              "      <td>105.958930</td>\n",
              "    </tr>\n",
              "    <tr>\n",
              "      <th>8</th>\n",
              "      <td>Florida</td>\n",
              "      <td>233.612815</td>\n",
              "      <td>3.600522</td>\n",
              "      <td>-8.875461</td>\n",
              "    </tr>\n",
              "    <tr>\n",
              "      <th>9</th>\n",
              "      <td>Georgia</td>\n",
              "      <td>266.825217</td>\n",
              "      <td>3.831522</td>\n",
              "      <td>88.315453</td>\n",
              "    </tr>\n",
              "    <tr>\n",
              "      <th>10</th>\n",
              "      <td>Idaho</td>\n",
              "      <td>208.689810</td>\n",
              "      <td>3.047619</td>\n",
              "      <td>39.367767</td>\n",
              "    </tr>\n",
              "    <tr>\n",
              "      <th>11</th>\n",
              "      <td>Illinois</td>\n",
              "      <td>162.939230</td>\n",
              "      <td>3.750000</td>\n",
              "      <td>-25.625787</td>\n",
              "    </tr>\n",
              "    <tr>\n",
              "      <th>12</th>\n",
              "      <td>Indiana</td>\n",
              "      <td>359.431946</td>\n",
              "      <td>3.879195</td>\n",
              "      <td>123.375411</td>\n",
              "    </tr>\n",
              "    <tr>\n",
              "      <th>13</th>\n",
              "      <td>Iowa</td>\n",
              "      <td>152.658667</td>\n",
              "      <td>3.733333</td>\n",
              "      <td>39.460397</td>\n",
              "    </tr>\n",
              "    <tr>\n",
              "      <th>14</th>\n",
              "      <td>Kansas</td>\n",
              "      <td>121.429583</td>\n",
              "      <td>3.083333</td>\n",
              "      <td>34.851813</td>\n",
              "    </tr>\n",
              "    <tr>\n",
              "      <th>15</th>\n",
              "      <td>Kentucky</td>\n",
              "      <td>263.250000</td>\n",
              "      <td>3.762590</td>\n",
              "      <td>80.573357</td>\n",
              "    </tr>\n",
              "    <tr>\n",
              "      <th>16</th>\n",
              "      <td>Louisiana</td>\n",
              "      <td>219.453095</td>\n",
              "      <td>3.714286</td>\n",
              "      <td>52.288150</td>\n",
              "    </tr>\n",
              "    <tr>\n",
              "      <th>17</th>\n",
              "      <td>Maine</td>\n",
              "      <td>158.816250</td>\n",
              "      <td>4.375000</td>\n",
              "      <td>56.810775</td>\n",
              "    </tr>\n",
              "    <tr>\n",
              "      <th>18</th>\n",
              "      <td>Maryland</td>\n",
              "      <td>225.766886</td>\n",
              "      <td>4.000000</td>\n",
              "      <td>66.963608</td>\n",
              "    </tr>\n",
              "    <tr>\n",
              "      <th>19</th>\n",
              "      <td>Massachusetts</td>\n",
              "      <td>212.106919</td>\n",
              "      <td>3.637037</td>\n",
              "      <td>50.262975</td>\n",
              "    </tr>\n",
              "    <tr>\n",
              "      <th>20</th>\n",
              "      <td>Michigan</td>\n",
              "      <td>299.096525</td>\n",
              "      <td>3.709804</td>\n",
              "      <td>95.934069</td>\n",
              "    </tr>\n",
              "    <tr>\n",
              "      <th>21</th>\n",
              "      <td>Minnesota</td>\n",
              "      <td>335.541011</td>\n",
              "      <td>3.719101</td>\n",
              "      <td>121.608847</td>\n",
              "    </tr>\n",
              "    <tr>\n",
              "      <th>22</th>\n",
              "      <td>Mississippi</td>\n",
              "      <td>203.232830</td>\n",
              "      <td>4.169811</td>\n",
              "      <td>59.867475</td>\n",
              "    </tr>\n",
              "    <tr>\n",
              "      <th>23</th>\n",
              "      <td>Missouri</td>\n",
              "      <td>336.441667</td>\n",
              "      <td>3.818182</td>\n",
              "      <td>97.518341</td>\n",
              "    </tr>\n",
              "    <tr>\n",
              "      <th>24</th>\n",
              "      <td>Montana</td>\n",
              "      <td>372.623467</td>\n",
              "      <td>3.733333</td>\n",
              "      <td>122.221900</td>\n",
              "    </tr>\n",
              "    <tr>\n",
              "      <th>25</th>\n",
              "      <td>Nebraska</td>\n",
              "      <td>196.445526</td>\n",
              "      <td>3.578947</td>\n",
              "      <td>53.607742</td>\n",
              "    </tr>\n",
              "    <tr>\n",
              "      <th>26</th>\n",
              "      <td>Nevada</td>\n",
              "      <td>428.951333</td>\n",
              "      <td>4.307692</td>\n",
              "      <td>85.045279</td>\n",
              "    </tr>\n",
              "    <tr>\n",
              "      <th>27</th>\n",
              "      <td>New Hampshire</td>\n",
              "      <td>270.093481</td>\n",
              "      <td>4.703704</td>\n",
              "      <td>63.203807</td>\n",
              "    </tr>\n",
              "    <tr>\n",
              "      <th>28</th>\n",
              "      <td>New Jersey</td>\n",
              "      <td>275.110092</td>\n",
              "      <td>3.492308</td>\n",
              "      <td>75.176260</td>\n",
              "    </tr>\n",
              "    <tr>\n",
              "      <th>29</th>\n",
              "      <td>New Mexico</td>\n",
              "      <td>129.284378</td>\n",
              "      <td>4.081081</td>\n",
              "      <td>31.273408</td>\n",
              "    </tr>\n",
              "    <tr>\n",
              "      <th>30</th>\n",
              "      <td>New York</td>\n",
              "      <td>275.599531</td>\n",
              "      <td>3.744681</td>\n",
              "      <td>65.637011</td>\n",
              "    </tr>\n",
              "    <tr>\n",
              "      <th>31</th>\n",
              "      <td>North Carolina</td>\n",
              "      <td>223.305880</td>\n",
              "      <td>3.947791</td>\n",
              "      <td>-30.083985</td>\n",
              "    </tr>\n",
              "    <tr>\n",
              "      <th>32</th>\n",
              "      <td>North Dakota</td>\n",
              "      <td>131.415714</td>\n",
              "      <td>4.285714</td>\n",
              "      <td>32.878529</td>\n",
              "    </tr>\n",
              "    <tr>\n",
              "      <th>33</th>\n",
              "      <td>Ohio</td>\n",
              "      <td>166.861697</td>\n",
              "      <td>3.750533</td>\n",
              "      <td>-36.186304</td>\n",
              "    </tr>\n",
              "    <tr>\n",
              "      <th>34</th>\n",
              "      <td>Oklahoma</td>\n",
              "      <td>298.233182</td>\n",
              "      <td>3.742424</td>\n",
              "      <td>73.544788</td>\n",
              "    </tr>\n",
              "    <tr>\n",
              "      <th>35</th>\n",
              "      <td>Oregon</td>\n",
              "      <td>140.573790</td>\n",
              "      <td>4.024194</td>\n",
              "      <td>-9.600569</td>\n",
              "    </tr>\n",
              "    <tr>\n",
              "      <th>36</th>\n",
              "      <td>Pennsylvania</td>\n",
              "      <td>198.487077</td>\n",
              "      <td>3.667802</td>\n",
              "      <td>-26.507598</td>\n",
              "    </tr>\n",
              "    <tr>\n",
              "      <th>37</th>\n",
              "      <td>Rhode Island</td>\n",
              "      <td>404.070643</td>\n",
              "      <td>3.553571</td>\n",
              "      <td>130.100523</td>\n",
              "    </tr>\n",
              "    <tr>\n",
              "      <th>38</th>\n",
              "      <td>South Carolina</td>\n",
              "      <td>201.945476</td>\n",
              "      <td>4.095238</td>\n",
              "      <td>42.120395</td>\n",
              "    </tr>\n",
              "    <tr>\n",
              "      <th>39</th>\n",
              "      <td>South Dakota</td>\n",
              "      <td>109.630000</td>\n",
              "      <td>3.500000</td>\n",
              "      <td>32.902358</td>\n",
              "    </tr>\n",
              "    <tr>\n",
              "      <th>40</th>\n",
              "      <td>Tennessee</td>\n",
              "      <td>167.551219</td>\n",
              "      <td>3.721311</td>\n",
              "      <td>-29.189583</td>\n",
              "    </tr>\n",
              "    <tr>\n",
              "      <th>41</th>\n",
              "      <td>Texas</td>\n",
              "      <td>172.779742</td>\n",
              "      <td>3.780711</td>\n",
              "      <td>-26.121174</td>\n",
              "    </tr>\n",
              "    <tr>\n",
              "      <th>42</th>\n",
              "      <td>Utah</td>\n",
              "      <td>211.699170</td>\n",
              "      <td>4.132075</td>\n",
              "      <td>48.047802</td>\n",
              "    </tr>\n",
              "    <tr>\n",
              "      <th>43</th>\n",
              "      <td>Vermont</td>\n",
              "      <td>811.760909</td>\n",
              "      <td>4.545455</td>\n",
              "      <td>204.088936</td>\n",
              "    </tr>\n",
              "    <tr>\n",
              "      <th>44</th>\n",
              "      <td>Virginia</td>\n",
              "      <td>315.342500</td>\n",
              "      <td>3.986607</td>\n",
              "      <td>83.026564</td>\n",
              "    </tr>\n",
              "    <tr>\n",
              "      <th>45</th>\n",
              "      <td>Washington</td>\n",
              "      <td>273.994605</td>\n",
              "      <td>3.721344</td>\n",
              "      <td>66.013146</td>\n",
              "    </tr>\n",
              "    <tr>\n",
              "      <th>46</th>\n",
              "      <td>West Virginia</td>\n",
              "      <td>302.456000</td>\n",
              "      <td>4.500000</td>\n",
              "      <td>46.480400</td>\n",
              "    </tr>\n",
              "    <tr>\n",
              "      <th>47</th>\n",
              "      <td>Wisconsin</td>\n",
              "      <td>291.951000</td>\n",
              "      <td>4.209091</td>\n",
              "      <td>76.380004</td>\n",
              "    </tr>\n",
              "    <tr>\n",
              "      <th>48</th>\n",
              "      <td>Wyoming</td>\n",
              "      <td>1603.136000</td>\n",
              "      <td>4.000000</td>\n",
              "      <td>100.196000</td>\n",
              "    </tr>\n",
              "  </tbody>\n",
              "</table>\n",
              "</div>"
            ],
            "text/plain": [
              "                   State        Sales  Quantity      Profit\n",
              "0                Alabama   319.846557  4.196721   94.865989\n",
              "1                Arizona   157.508933  3.848214  -15.303235\n",
              "2               Arkansas   194.635500  4.000000   66.811452\n",
              "3             California   228.729451  3.831584   38.171608\n",
              "4               Colorado   176.418231  3.807692  -35.867351\n",
              "5            Connecticut   163.223866  3.426829   42.823071\n",
              "6               Delaware   285.948635  3.822917  103.930988\n",
              "7   District of Columbia   286.502000  4.000000  105.958930\n",
              "8                Florida   233.612815  3.600522   -8.875461\n",
              "9                Georgia   266.825217  3.831522   88.315453\n",
              "10                 Idaho   208.689810  3.047619   39.367767\n",
              "11              Illinois   162.939230  3.750000  -25.625787\n",
              "12               Indiana   359.431946  3.879195  123.375411\n",
              "13                  Iowa   152.658667  3.733333   39.460397\n",
              "14                Kansas   121.429583  3.083333   34.851813\n",
              "15              Kentucky   263.250000  3.762590   80.573357\n",
              "16             Louisiana   219.453095  3.714286   52.288150\n",
              "17                 Maine   158.816250  4.375000   56.810775\n",
              "18              Maryland   225.766886  4.000000   66.963608\n",
              "19         Massachusetts   212.106919  3.637037   50.262975\n",
              "20              Michigan   299.096525  3.709804   95.934069\n",
              "21             Minnesota   335.541011  3.719101  121.608847\n",
              "22           Mississippi   203.232830  4.169811   59.867475\n",
              "23              Missouri   336.441667  3.818182   97.518341\n",
              "24               Montana   372.623467  3.733333  122.221900\n",
              "25              Nebraska   196.445526  3.578947   53.607742\n",
              "26                Nevada   428.951333  4.307692   85.045279\n",
              "27         New Hampshire   270.093481  4.703704   63.203807\n",
              "28            New Jersey   275.110092  3.492308   75.176260\n",
              "29            New Mexico   129.284378  4.081081   31.273408\n",
              "30              New York   275.599531  3.744681   65.637011\n",
              "31        North Carolina   223.305880  3.947791  -30.083985\n",
              "32          North Dakota   131.415714  4.285714   32.878529\n",
              "33                  Ohio   166.861697  3.750533  -36.186304\n",
              "34              Oklahoma   298.233182  3.742424   73.544788\n",
              "35                Oregon   140.573790  4.024194   -9.600569\n",
              "36          Pennsylvania   198.487077  3.667802  -26.507598\n",
              "37          Rhode Island   404.070643  3.553571  130.100523\n",
              "38        South Carolina   201.945476  4.095238   42.120395\n",
              "39          South Dakota   109.630000  3.500000   32.902358\n",
              "40             Tennessee   167.551219  3.721311  -29.189583\n",
              "41                 Texas   172.779742  3.780711  -26.121174\n",
              "42                  Utah   211.699170  4.132075   48.047802\n",
              "43               Vermont   811.760909  4.545455  204.088936\n",
              "44              Virginia   315.342500  3.986607   83.026564\n",
              "45            Washington   273.994605  3.721344   66.013146\n",
              "46         West Virginia   302.456000  4.500000   46.480400\n",
              "47             Wisconsin   291.951000  4.209091   76.380004\n",
              "48               Wyoming  1603.136000  4.000000  100.196000"
            ]
          },
          "metadata": {},
          "execution_count": 22
        }
      ]
    },
    {
      "cell_type": "code",
      "metadata": {
        "colab": {
          "base_uri": "https://localhost:8080/",
          "height": 1000
        },
        "id": "0P5KUb48O0IL",
        "outputId": "4429aaee-eb7f-4dde-b6ed-14ead6340a73"
      },
      "source": [
        "Sales_State_plot = sns.catplot(y = \"Sales\", x = \"State\", data = State_grp, kind = \"bar\")\n",
        "Quantity_State_plot = sns.catplot(y = \"Quantity\", x = \"State\", data = State_grp, kind = \"bar\")\n",
        "Profit_State_plot = sns.catplot(y = \"Profit\", x = \"State\", data = State_grp, kind = \"bar\")"
      ],
      "execution_count": null,
      "outputs": [
        {
          "output_type": "display_data",
          "data": {
            "image/png": "[encoded data removed]",
            "text/plain": [
              "<Figure size 360x360 with 1 Axes>"
            ]
          },
          "metadata": {
            "needs_background": "light"
          }
        },
        {
          "output_type": "display_data",
          "data": {
            "image/png": "[encoded data removed]",
            "text/plain": [
              "<Figure size 360x360 with 1 Axes>"
            ]
          },
          "metadata": {
            "needs_background": "light"
          }
        },
        {
          "output_type": "display_data",
          "data": {
            "image/png": "[encoded data removed]",
            "text/plain": [
              "<Figure size 360x360 with 1 Axes>"
            ]
          },
          "metadata": {
            "needs_background": "light"
          }
        }
      ]
    },
    {
      "cell_type": "code",
      "metadata": {
        "id": "BXV6ScnVO0K6"
      },
      "source": [
        "Sales_sorted = State_grp.sort_values(['Sales'], ascending = False)[:10]\n",
        "Quantity_sorted = State_grp.sort_values(['Quantity'], ascending = False)[:10]\n",
        "Profit_sorted = State_grp.sort_values(['Profit'], ascending = False)[:10]"
      ],
      "execution_count": null,
      "outputs": []
    },
    {
      "cell_type": "code",
      "metadata": {
        "colab": {
          "base_uri": "https://localhost:8080/",
          "height": 773
        },
        "id": "H08bESCuO0Nn",
        "outputId": "de085d8f-29ae-4027-e2e0-74c159b42d42"
      },
      "source": [
        "Sales_values = Sales_sorted.Sales\n",
        "Quantity_values = Quantity_sorted.Quantity\n",
        "Profit_values = Profit_sorted.Profit\n",
        "\n",
        "Sales_labels = Sales_sorted.State\n",
        "Quantity_labels = Quantity_sorted.State\n",
        "Profit_labels = Profit_sorted.State\n",
        "\n",
        "plt.pie(Sales_values, labels=Sales_labels, autopct='%1.f%%')\n",
        "plt.title(\"Top 10 State in US with Highest Sales\", fontsize=20)\n",
        "plt.show()\n",
        "\n",
        "plt.pie(Quantity_values, labels=Quantity_labels, autopct='%1.f%%')\n",
        "plt.title(\"Top 10 State in US with Highest Quantity Sold\", fontsize=20)\n",
        "plt.show()\n",
        "\n",
        "plt.pie(Profit_values, labels=Profit_labels, autopct='%1.f%%')\n",
        "plt.title(\"Top 10 State in US with Highest Profit Gained\", fontsize=20)\n",
        "plt.show()"
      ],
      "execution_count": null,
      "outputs": [
        {
          "output_type": "display_data",
          "data": {
            "image/png": "[encoded data removed]",
            "text/plain": [
              "<Figure size 432x288 with 1 Axes>"
            ]
          },
          "metadata": {}
        },
        {
          "output_type": "display_data",
          "data": {
            "image/png": "[encoded data removed]",
            "text/plain": [
              "<Figure size 432x288 with 1 Axes>"
            ]
          },
          "metadata": {}
        },
        {
          "output_type": "display_data",
          "data": {
            "image/png": "[encoded data removed]",
            "text/plain": [
              "<Figure size 432x288 with 1 Axes>"
            ]
          },
          "metadata": {}
        }
      ]
    },
    {
      "cell_type": "markdown",
      "metadata": {
        "id": "S6veUj-JQeBh"
      },
      "source": [
        "**Conclusions:**\n",
        "\n",
        "Wyoming sales are highest among all but with a profit of only 8%.\n",
        "\n",
        "Almost all top 10 states have same quantity sold.\n",
        "\n",
        "Vermont State gained the highest profit among all."
      ]
    },
    {
      "cell_type": "markdown",
      "metadata": {
        "id": "yP2fPNZpQeEJ"
      },
      "source": [
        "# **SHIP MODE GROUP**"
      ]
    },
    {
      "cell_type": "code",
      "metadata": {
        "colab": {
          "base_uri": "https://localhost:8080/",
          "height": 172
        },
        "id": "I0tfPUJOO0QW",
        "outputId": "015c7d68-17a8-438f-c3ba-ca41f1cf5e86"
      },
      "source": [
        "Shipmode_grp"
      ],
      "execution_count": null,
      "outputs": [
        {
          "output_type": "execute_result",
          "data": {
            "text/html": [
              "<div>\n",
              "<style scoped>\n",
              "    .dataframe tbody tr th:only-of-type {\n",
              "        vertical-align: middle;\n",
              "    }\n",
              "\n",
              "    .dataframe tbody tr th {\n",
              "        vertical-align: top;\n",
              "    }\n",
              "\n",
              "    .dataframe thead th {\n",
              "        text-align: right;\n",
              "    }\n",
              "</style>\n",
              "<table border=\"1\" class=\"dataframe\">\n",
              "  <thead>\n",
              "    <tr style=\"text-align: right;\">\n",
              "      <th></th>\n",
              "      <th>Ship Mode</th>\n",
              "      <th>Sales</th>\n",
              "      <th>Quantity</th>\n",
              "      <th>Profit</th>\n",
              "    </tr>\n",
              "  </thead>\n",
              "  <tbody>\n",
              "    <tr>\n",
              "      <th>0</th>\n",
              "      <td>First Class</td>\n",
              "      <td>228.497024</td>\n",
              "      <td>3.701560</td>\n",
              "      <td>31.839948</td>\n",
              "    </tr>\n",
              "    <tr>\n",
              "      <th>1</th>\n",
              "      <td>Same Day</td>\n",
              "      <td>236.396179</td>\n",
              "      <td>3.609576</td>\n",
              "      <td>29.266591</td>\n",
              "    </tr>\n",
              "    <tr>\n",
              "      <th>2</th>\n",
              "      <td>Second Class</td>\n",
              "      <td>236.089239</td>\n",
              "      <td>3.816452</td>\n",
              "      <td>29.535545</td>\n",
              "    </tr>\n",
              "    <tr>\n",
              "      <th>3</th>\n",
              "      <td>Standard Class</td>\n",
              "      <td>227.583067</td>\n",
              "      <td>3.819873</td>\n",
              "      <td>27.494770</td>\n",
              "    </tr>\n",
              "  </tbody>\n",
              "</table>\n",
              "</div>"
            ],
            "text/plain": [
              "        Ship Mode       Sales  Quantity     Profit\n",
              "0     First Class  228.497024  3.701560  31.839948\n",
              "1        Same Day  236.396179  3.609576  29.266591\n",
              "2    Second Class  236.089239  3.816452  29.535545\n",
              "3  Standard Class  227.583067  3.819873  27.494770"
            ]
          },
          "metadata": {},
          "execution_count": 28
        }
      ]
    },
    {
      "cell_type": "code",
      "metadata": {
        "colab": {
          "base_uri": "https://localhost:8080/",
          "height": 1000
        },
        "id": "dKN1p6IpO0U4",
        "outputId": "0cbf4278-0e16-4f61-eb35-7ebabd521301"
      },
      "source": [
        "Sales_Shipmode_plot = sns.catplot(y = \"Sales\", x = \"Ship Mode\", data = Shipmode_grp, kind = \"bar\")\n",
        "Quantity_Shipmode_plot = sns.catplot(y = \"Quantity\", x = \"Ship Mode\", data = Shipmode_grp, kind = \"bar\")\n",
        "Profit_Shipmode_plot = sns.catplot(y = \"Profit\", x = \"Ship Mode\", data = Shipmode_grp, kind = \"bar\")"
      ],
      "execution_count": null,
      "outputs": [
        {
          "output_type": "display_data",
          "data": {
            "image/png": "[encoded data removed]",
            "text/plain": [
              "<Figure size 360x360 with 1 Axes>"
            ]
          },
          "metadata": {
            "needs_background": "light"
          }
        },
        {
          "output_type": "display_data",
          "data": {
            "image/png": "[encoded data removed]",
            "text/plain": [
              "<Figure size 360x360 with 1 Axes>"
            ]
          },
          "metadata": {
            "needs_background": "light"
          }
        },
        {
          "output_type": "display_data",
          "data": {
            "image/png": "[encoded data removed]",
            "text/plain": [
              "<Figure size 360x360 with 1 Axes>"
            ]
          },
          "metadata": {
            "needs_background": "light"
          }
        }
      ]
    },
    {
      "cell_type": "markdown",
      "metadata": {
        "id": "jvXRw_mwRFUc"
      },
      "source": [
        "#**Business problems that can be derived by looking into the data?**\n",
        "How much is the sales, profit and quantity sold varies region-wise, state-wise and segment-wise, category-wise?\n",
        "\n",
        "Which category of items gives the more profit and sold more?\n",
        "\n",
        "Which type of mode is suitable for more profit?\n",
        "\n",
        "Which country has the highest profit?\n",
        "\n",
        "Which region has the highest sales and profit?\n",
        "\n",
        "***From the analysis done above, we can infer that***\n",
        "\n",
        "\n",
        "Technology Category are in demand. So if production in this field will be more, then company can get more profit.\n",
        "\n",
        "Profit gain is highest in Home-Office segment. Company must emphasise more to Home-Office segment.\n",
        "\n",
        "People in the South and East prefer most of the goods. Company must spread out their products in these part of US.\n",
        "\n",
        "Profit are highest in Western part of US. Company should produce more in this part of US but must come with a plan to increase the sales.\n",
        "\n",
        "Wyoming State have highest sales and Vermont State have the highest Profit. Company must place all types of products in these states for more profit and sales.\n"
      ]
    }
  ]
}